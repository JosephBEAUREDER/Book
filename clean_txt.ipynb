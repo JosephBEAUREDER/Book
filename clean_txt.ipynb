{
 "cells": [
  {
   "cell_type": "code",
   "execution_count": 5,
   "metadata": {},
   "outputs": [],
   "source": [
    "import re\n",
    "\n",
    "file_path = 'Book\\Structuralisme_2_Dosse.txt'\n",
    "\n",
    "# Read the input file\n",
    "with open(file_path, 'r', encoding='utf-8') as f:\n",
    "    text = f.read()\n",
    "\n",
    "# Remove isolated footnote markers like [1], [2]\n",
    "text = re.sub(r\"\\[\\d+\\] ?↑?.*?(\\n|$)\", \"\", text)\n",
    "\n",
    "# Remove footnotes of the format \"1. Some text\" at the end of each chapter\n",
    "text = re.sub(r\"(\\n|^)\\d+\\.\\s+.+?(?=\\n\\n|\\Z)\", \"\", text, flags=re.DOTALL)\n",
    "\n",
    "# Write the cleaned text back to a file\n",
    "with open(file_path, 'w', encoding='utf-8') as f:\n",
    "    f.write(text)\n"
   ]
  }
 ],
 "metadata": {
  "kernelspec": {
   "display_name": "base",
   "language": "python",
   "name": "python3"
  },
  "language_info": {
   "codemirror_mode": {
    "name": "ipython",
    "version": 3
   },
   "file_extension": ".py",
   "mimetype": "text/x-python",
   "name": "python",
   "nbconvert_exporter": "python",
   "pygments_lexer": "ipython3",
   "version": "3.11.5"
  }
 },
 "nbformat": 4,
 "nbformat_minor": 2
}
