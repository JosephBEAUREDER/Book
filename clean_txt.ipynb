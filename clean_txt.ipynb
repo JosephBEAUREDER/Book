{
 "cells": [
  {
   "cell_type": "code",
   "execution_count": 3,
   "metadata": {},
   "outputs": [],
   "source": [
    "import re\n",
    "\n",
    "file_path = 'Book/Kafka_Lahire.txt'\n",
    "\n",
    "# Read the input file\n",
    "with open(file_path, 'r', encoding='utf-8') as f:\n",
    "    text = f.read()\n",
    "\n",
    "# Remove isolated footnote markers like [1], [2]\n",
    "text = re.sub(r\"\\[\\d+\\] ?↑?.*?(\\n|$)\", \"\", text)\n",
    "\n",
    "# Remove footnotes of the format \"1. Some text\" at the end of each chapter\n",
    "text = re.sub(r\"(\\n|^)\\d+\\.\\s+.+?(?=\\n\\n|\\Z)\", \"\", text, flags=re.DOTALL)\n",
    "\n",
    "# Write the cleaned text back to a file\n",
    "with open(file_path, 'w', encoding='utf-8') as f:\n",
    "    f.write(text)\n"
   ]
  },
  {
   "cell_type": "code",
   "execution_count": 1,
   "metadata": {},
   "outputs": [
    {
     "ename": "ModuleNotFoundError",
     "evalue": "No module named 'typing_extensions'",
     "output_type": "error",
     "traceback": [
      "\u001b[1;31m---------------------------------------------------------------------------\u001b[0m",
      "\u001b[1;31mModuleNotFoundError\u001b[0m                       Traceback (most recent call last)",
      "Cell \u001b[1;32mIn[1], line 2\u001b[0m\n\u001b[0;32m      1\u001b[0m \u001b[38;5;28;01mimport\u001b[39;00m \u001b[38;5;21;01mrandom\u001b[39;00m\n\u001b[1;32m----> 2\u001b[0m \u001b[38;5;28;01mimport\u001b[39;00m \u001b[38;5;21;01mopenai\u001b[39;00m\n\u001b[0;32m      3\u001b[0m \u001b[38;5;28;01mfrom\u001b[39;00m \u001b[38;5;21;01msemantic_text_splitter\u001b[39;00m \u001b[38;5;28;01mimport\u001b[39;00m TextSplitter\n\u001b[0;32m      4\u001b[0m \u001b[38;5;28;01mimport\u001b[39;00m \u001b[38;5;21;01mjson\u001b[39;00m\n",
      "File \u001b[1;32m~\\AppData\\Roaming\\Python\\Python312\\site-packages\\openai\\__init__.py:6\u001b[0m\n\u001b[0;32m      3\u001b[0m \u001b[38;5;28;01mfrom\u001b[39;00m \u001b[38;5;21;01m__future__\u001b[39;00m \u001b[38;5;28;01mimport\u001b[39;00m annotations\n\u001b[0;32m      5\u001b[0m \u001b[38;5;28;01mimport\u001b[39;00m \u001b[38;5;21;01mos\u001b[39;00m \u001b[38;5;28;01mas\u001b[39;00m \u001b[38;5;21;01m_os\u001b[39;00m\n\u001b[1;32m----> 6\u001b[0m \u001b[38;5;28;01mfrom\u001b[39;00m \u001b[38;5;21;01mtyping_extensions\u001b[39;00m \u001b[38;5;28;01mimport\u001b[39;00m override\n\u001b[0;32m      8\u001b[0m \u001b[38;5;28;01mfrom\u001b[39;00m \u001b[38;5;21;01m.\u001b[39;00m \u001b[38;5;28;01mimport\u001b[39;00m types\n\u001b[0;32m      9\u001b[0m \u001b[38;5;28;01mfrom\u001b[39;00m \u001b[38;5;21;01m.\u001b[39;00m\u001b[38;5;21;01m_types\u001b[39;00m \u001b[38;5;28;01mimport\u001b[39;00m NoneType, Transport, ProxiesTypes\n",
      "\u001b[1;31mModuleNotFoundError\u001b[0m: No module named 'typing_extensions'"
     ]
    }
   ],
   "source": [
    "import random\n",
    "import openai\n",
    "from semantic_text_splitter import TextSplitter\n",
    "import json\n",
    "import os\n",
    "from dotenv import load_dotenv\n",
    "\n",
    "\n",
    "def split_and_merge_text(text, min_size=1500, max_size=3000):\n",
    "    \"\"\"\n",
    "    Splits the text using a TextSplitter and merges smaller chunks to meet size constraints.\n",
    "\n",
    "    Args:\n",
    "        text (str): The input text to be split.\n",
    "        min_size (int): The minimum size for each chunk.\n",
    "        max_size (int): The maximum size for each chunk.\n",
    "\n",
    "    Returns:\n",
    "        list: A list of merged chunks that meet the size constraints.\n",
    "    \"\"\"\n",
    "    # Initialize the splitter with the chunk size range\n",
    "    splitter = TextSplitter((min_size, max_size))\n",
    "\n",
    "    # Split the text into initial chunks\n",
    "    initial_chunks = splitter.chunks(text)\n",
    "\n",
    "    # Merge chunks smaller than the minimum size\n",
    "    merged_chunks = []\n",
    "    current_chunk = \"\"\n",
    "    for chunk in initial_chunks:\n",
    "        if len(current_chunk) + len(chunk) <= max_size:\n",
    "            current_chunk += chunk\n",
    "        else:\n",
    "            if current_chunk:\n",
    "                merged_chunks.append(current_chunk)\n",
    "            current_chunk = chunk\n",
    "\n",
    "    if current_chunk:\n",
    "        merged_chunks.append(current_chunk)\n",
    "\n",
    "    # Ensure all chunks meet the minimum size requirement\n",
    "    final_chunks = []\n",
    "    current_chunk = \"\"\n",
    "    for chunk in merged_chunks:\n",
    "        if len(chunk) < min_size:\n",
    "            current_chunk += chunk\n",
    "        else:\n",
    "            if current_chunk:\n",
    "                final_chunks.append(current_chunk)\n",
    "                current_chunk = \"\"\n",
    "            final_chunks.append(chunk)\n",
    "\n",
    "    if current_chunk:\n",
    "        final_chunks.append(current_chunk)\n",
    "\n",
    "    return final_chunks\n"
   ]
  }
 ],
 "metadata": {
  "kernelspec": {
   "display_name": "Python 3",
   "language": "python",
   "name": "python3"
  },
  "language_info": {
   "codemirror_mode": {
    "name": "ipython",
    "version": 3
   },
   "file_extension": ".py",
   "mimetype": "text/x-python",
   "name": "python",
   "nbconvert_exporter": "python",
   "pygments_lexer": "ipython3",
   "version": "3.12.4"
  }
 },
 "nbformat": 4,
 "nbformat_minor": 2
}
